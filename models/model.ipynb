{
 "cells": [
  {
   "cell_type": "code",
   "execution_count": 11,
   "id": "779e4486",
   "metadata": {},
   "outputs": [
    {
     "name": "stdout",
     "output_type": "stream",
     "text": [
      "📥 Downloading California housing dataset...\n",
      "\n",
      "📌 Model expects the following input features:\n",
      "1. MedInc\n",
      "2. HouseAge\n",
      "3. AveRooms\n",
      "4. AveBedrms\n",
      "5. Population\n",
      "6. AveOccup\n",
      "7. Latitude\n",
      "8. Longitude\n",
      "\n",
      "⚙️ Training the Random Forest model...\n",
      "\n",
      "📊 Model Evaluation:\n",
      "Mean Squared Error: 0.2554\n",
      "R² Score: 0.8051\n",
      "\n",
      "💾 Model saved as: house_price_model.pkl\n",
      "\n",
      "🔮 Sample prediction:\n",
      "Input: {'MedInc': 1.6812, 'HouseAge': 25.0, 'AveRooms': 4.192200557103064, 'AveBedrms': 1.0222841225626742, 'Population': 1392.0, 'AveOccup': 3.8774373259052926, 'Latitude': 36.06, 'Longitude': -119.01}\n",
      "Predicted House Value: $50950.00\n"
     ]
    }
   ],
   "source": [
    "import pandas as pd\n",
    "import joblib\n",
    "from sklearn.datasets import fetch_california_housing\n",
    "from sklearn.model_selection import train_test_split\n",
    "from sklearn.ensemble import RandomForestRegressor\n",
    "from sklearn.metrics import mean_squared_error, r2_score\n",
    "\n",
    "# 1. Auto-download California housing data\n",
    "print(\"📥 Downloading California housing dataset...\")\n",
    "data = fetch_california_housing(as_frame=True)\n",
    "df = data.frame\n",
    "\n",
    "# 2. Input features and target\n",
    "X = df.drop('MedHouseVal', axis=1)\n",
    "y = df['MedHouseVal']\n",
    "\n",
    "print(\"\\n📌 Model expects the following input features:\")\n",
    "for i, feature in enumerate(X.columns, 1):\n",
    "    print(f\"{i}. {feature}\")\n",
    "\n",
    "# 3. Split dataset\n",
    "X_train, X_test, y_train, y_test = train_test_split(X, y, test_size=0.2, random_state=42)\n",
    "\n",
    "# 4. Train model\n",
    "model = RandomForestRegressor(n_estimators=100, random_state=42)\n",
    "print(\"\\n⚙️ Training the Random Forest model...\")\n",
    "model.fit(X_train, y_train)\n",
    "\n",
    "# 5. Evaluate\n",
    "y_pred = model.predict(X_test)\n",
    "mse = mean_squared_error(y_test, y_pred)\n",
    "r2 = r2_score(y_test, y_pred)\n",
    "print(\"\\n📊 Model Evaluation:\")\n",
    "print(f\"Mean Squared Error: {mse:.4f}\")\n",
    "print(f\"R² Score: {r2:.4f}\")\n",
    "\n",
    "# 6. Save model to pickle file\n",
    "model_filename = \"house_price_model.pkl\"\n",
    "joblib.dump(model, model_filename)\n",
    "print(f\"\\n💾 Model saved as: {model_filename}\")\n",
    "\n",
    "# 7. Example prediction\n",
    "sample = X_test.iloc[[0]]\n",
    "predicted_price = model.predict(sample)[0]\n",
    "print(\"\\n🔮 Sample prediction:\")\n",
    "print(f\"Input: {sample.to_dict('records')[0]}\")\n",
    "print(f\"Predicted House Value: ${predicted_price * 100000:.2f}\")\n"
   ]
  },
  {
   "cell_type": "code",
   "execution_count": null,
   "id": "f4366ec1",
   "metadata": {},
   "outputs": [],
   "source": []
  }
 ],
 "metadata": {
  "kernelspec": {
   "display_name": "base",
   "language": "python",
   "name": "python3"
  },
  "language_info": {
   "codemirror_mode": {
    "name": "ipython",
    "version": 3
   },
   "file_extension": ".py",
   "mimetype": "text/x-python",
   "name": "python",
   "nbconvert_exporter": "python",
   "pygments_lexer": "ipython3",
   "version": "3.13.2"
  }
 },
 "nbformat": 4,
 "nbformat_minor": 5
}
